{
 "cells": [
  {
   "cell_type": "code",
   "execution_count": 166,
   "metadata": {},
   "outputs": [],
   "source": [
    "import numpy as np\n",
    "import pandas as pd\n",
    "pd.options.display.max_rows = 4000\n",
    "import datetime as dt\n",
    "import re"
   ]
  },
  {
   "attachments": {},
   "cell_type": "markdown",
   "metadata": {},
   "source": [
    "# Data Cleaning"
   ]
  },
  {
   "attachments": {},
   "cell_type": "markdown",
   "metadata": {},
   "source": [
    "Read in the text files with the timestamps and triggers"
   ]
  },
  {
   "cell_type": "code",
   "execution_count": 167,
   "metadata": {},
   "outputs": [],
   "source": [
    "flags1 = pd.read_csv('akram_files/timing_test_events1.txt', delimiter = '\\t',\\\n",
    "                   header = None, names = ['pin_num', 'label', 'date', 'time'])\n",
    "flags2 = pd.read_csv('akram_files/timing_test_events2.txt', delimiter = '\\t',\\\n",
    "                   header = None, names = ['pin_num', 'label', 'date', 'time'])"
   ]
  },
  {
   "attachments": {},
   "cell_type": "markdown",
   "metadata": {},
   "source": [
    "Combine the two text files"
   ]
  },
  {
   "cell_type": "code",
   "execution_count": 168,
   "metadata": {},
   "outputs": [
    {
     "data": {
      "text/html": [
       "<div>\n",
       "<style scoped>\n",
       "    .dataframe tbody tr th:only-of-type {\n",
       "        vertical-align: middle;\n",
       "    }\n",
       "\n",
       "    .dataframe tbody tr th {\n",
       "        vertical-align: top;\n",
       "    }\n",
       "\n",
       "    .dataframe thead th {\n",
       "        text-align: right;\n",
       "    }\n",
       "</style>\n",
       "<table border=\"1\" class=\"dataframe\">\n",
       "  <thead>\n",
       "    <tr style=\"text-align: right;\">\n",
       "      <th></th>\n",
       "      <th>pin_num</th>\n",
       "      <th>label</th>\n",
       "      <th>date</th>\n",
       "      <th>time</th>\n",
       "    </tr>\n",
       "  </thead>\n",
       "  <tbody>\n",
       "    <tr>\n",
       "      <th>410</th>\n",
       "      <td>sync summary event # 6</td>\n",
       "      <td>describe_trial_choice_start</td>\n",
       "      <td>03/06/2023</td>\n",
       "      <td>04:06:46.555 PM</td>\n",
       "    </tr>\n",
       "    <tr>\n",
       "      <th>411</th>\n",
       "      <td>sync summary event # 128</td>\n",
       "      <td>async summary event 128</td>\n",
       "      <td>03/06/2023</td>\n",
       "      <td>04:06:46.586 PM</td>\n",
       "    </tr>\n",
       "    <tr>\n",
       "      <th>412</th>\n",
       "      <td>sync summary event # 10</td>\n",
       "      <td>describe_trial_choice_end</td>\n",
       "      <td>03/06/2023</td>\n",
       "      <td>04:06:47.732 PM</td>\n",
       "    </tr>\n",
       "    <tr>\n",
       "      <th>413</th>\n",
       "      <td>sync summary event # 14</td>\n",
       "      <td>fixation</td>\n",
       "      <td>03/06/2023</td>\n",
       "      <td>04:06:48.767 PM</td>\n",
       "    </tr>\n",
       "    <tr>\n",
       "      <th>414</th>\n",
       "      <td>sync summary event # 17</td>\n",
       "      <td>end_experiment</td>\n",
       "      <td>03/06/2023</td>\n",
       "      <td>04:06:49.810 PM</td>\n",
       "    </tr>\n",
       "  </tbody>\n",
       "</table>\n",
       "</div>"
      ],
      "text/plain": [
       "                      pin_num                        label        date  \\\n",
       "410    sync summary event # 6  describe_trial_choice_start  03/06/2023   \n",
       "411  sync summary event # 128      async summary event 128  03/06/2023   \n",
       "412   sync summary event # 10    describe_trial_choice_end  03/06/2023   \n",
       "413   sync summary event # 14                     fixation  03/06/2023   \n",
       "414   sync summary event # 17               end_experiment  03/06/2023   \n",
       "\n",
       "                time  \n",
       "410  04:06:46.555 PM  \n",
       "411  04:06:46.586 PM  \n",
       "412  04:06:47.732 PM  \n",
       "413  04:06:48.767 PM  \n",
       "414  04:06:49.810 PM  "
      ]
     },
     "execution_count": 168,
     "metadata": {},
     "output_type": "execute_result"
    }
   ],
   "source": [
    "flags = pd.concat([flags1, flags2])\n",
    "flags.tail()"
   ]
  },
  {
   "attachments": {},
   "cell_type": "markdown",
   "metadata": {},
   "source": [
    "## Deal with Time"
   ]
  },
  {
   "attachments": {},
   "cell_type": "markdown",
   "metadata": {},
   "source": [
    "Transform the timestamps into Timestamp objects"
   ]
  },
  {
   "cell_type": "code",
   "execution_count": 169,
   "metadata": {},
   "outputs": [
    {
     "data": {
      "text/html": [
       "<div>\n",
       "<style scoped>\n",
       "    .dataframe tbody tr th:only-of-type {\n",
       "        vertical-align: middle;\n",
       "    }\n",
       "\n",
       "    .dataframe tbody tr th {\n",
       "        vertical-align: top;\n",
       "    }\n",
       "\n",
       "    .dataframe thead th {\n",
       "        text-align: right;\n",
       "    }\n",
       "</style>\n",
       "<table border=\"1\" class=\"dataframe\">\n",
       "  <thead>\n",
       "    <tr style=\"text-align: right;\">\n",
       "      <th></th>\n",
       "      <th>pin_num</th>\n",
       "      <th>label</th>\n",
       "      <th>date</th>\n",
       "      <th>time</th>\n",
       "    </tr>\n",
       "  </thead>\n",
       "  <tbody>\n",
       "    <tr>\n",
       "      <th>0</th>\n",
       "      <td>BioLab</td>\n",
       "      <td>Acquisition Started</td>\n",
       "      <td>03/06/2023</td>\n",
       "      <td>2023-03-16 15:35:06.294</td>\n",
       "    </tr>\n",
       "    <tr>\n",
       "      <th>1</th>\n",
       "      <td>sync summary event # 13</td>\n",
       "      <td>start_experiment</td>\n",
       "      <td>03/06/2023</td>\n",
       "      <td>2023-03-16 15:35:17.438</td>\n",
       "    </tr>\n",
       "    <tr>\n",
       "      <th>2</th>\n",
       "      <td>sync summary event # 128</td>\n",
       "      <td>async summary event 128</td>\n",
       "      <td>03/06/2023</td>\n",
       "      <td>2023-03-16 15:35:17.469</td>\n",
       "    </tr>\n",
       "    <tr>\n",
       "      <th>3</th>\n",
       "      <td>sync summary event # 2</td>\n",
       "      <td>describe_trial_start</td>\n",
       "      <td>03/06/2023</td>\n",
       "      <td>2023-03-16 15:35:26.346</td>\n",
       "    </tr>\n",
       "    <tr>\n",
       "      <th>4</th>\n",
       "      <td>sync summary event # 128</td>\n",
       "      <td>async summary event 128</td>\n",
       "      <td>03/06/2023</td>\n",
       "      <td>2023-03-16 15:35:26.417</td>\n",
       "    </tr>\n",
       "  </tbody>\n",
       "</table>\n",
       "</div>"
      ],
      "text/plain": [
       "                    pin_num                    label        date  \\\n",
       "0                    BioLab      Acquisition Started  03/06/2023   \n",
       "1   sync summary event # 13         start_experiment  03/06/2023   \n",
       "2  sync summary event # 128  async summary event 128  03/06/2023   \n",
       "3    sync summary event # 2     describe_trial_start  03/06/2023   \n",
       "4  sync summary event # 128  async summary event 128  03/06/2023   \n",
       "\n",
       "                     time  \n",
       "0 2023-03-16 15:35:06.294  \n",
       "1 2023-03-16 15:35:17.438  \n",
       "2 2023-03-16 15:35:17.469  \n",
       "3 2023-03-16 15:35:26.346  \n",
       "4 2023-03-16 15:35:26.417  "
      ]
     },
     "execution_count": 169,
     "metadata": {},
     "output_type": "execute_result"
    }
   ],
   "source": [
    "flags['time'] = pd.to_datetime(flags['time'])\n",
    "flags.head()"
   ]
  },
  {
   "attachments": {},
   "cell_type": "markdown",
   "metadata": {},
   "source": [
    "Create a new variable with the time in seconds with decimal places down to microseconds"
   ]
  },
  {
   "cell_type": "code",
   "execution_count": 170,
   "metadata": {},
   "outputs": [
    {
     "data": {
      "text/html": [
       "<div>\n",
       "<style scoped>\n",
       "    .dataframe tbody tr th:only-of-type {\n",
       "        vertical-align: middle;\n",
       "    }\n",
       "\n",
       "    .dataframe tbody tr th {\n",
       "        vertical-align: top;\n",
       "    }\n",
       "\n",
       "    .dataframe thead th {\n",
       "        text-align: right;\n",
       "    }\n",
       "</style>\n",
       "<table border=\"1\" class=\"dataframe\">\n",
       "  <thead>\n",
       "    <tr style=\"text-align: right;\">\n",
       "      <th></th>\n",
       "      <th>pin_num</th>\n",
       "      <th>label</th>\n",
       "      <th>date</th>\n",
       "      <th>time</th>\n",
       "      <th>sec_microsec</th>\n",
       "    </tr>\n",
       "  </thead>\n",
       "  <tbody>\n",
       "    <tr>\n",
       "      <th>0</th>\n",
       "      <td>BioLab</td>\n",
       "      <td>Acquisition Started</td>\n",
       "      <td>03/06/2023</td>\n",
       "      <td>2023-03-16 15:35:06.294</td>\n",
       "      <td>6.294</td>\n",
       "    </tr>\n",
       "    <tr>\n",
       "      <th>1</th>\n",
       "      <td>sync summary event # 13</td>\n",
       "      <td>start_experiment</td>\n",
       "      <td>03/06/2023</td>\n",
       "      <td>2023-03-16 15:35:17.438</td>\n",
       "      <td>17.438</td>\n",
       "    </tr>\n",
       "    <tr>\n",
       "      <th>2</th>\n",
       "      <td>sync summary event # 128</td>\n",
       "      <td>async summary event 128</td>\n",
       "      <td>03/06/2023</td>\n",
       "      <td>2023-03-16 15:35:17.469</td>\n",
       "      <td>17.469</td>\n",
       "    </tr>\n",
       "    <tr>\n",
       "      <th>3</th>\n",
       "      <td>sync summary event # 2</td>\n",
       "      <td>describe_trial_start</td>\n",
       "      <td>03/06/2023</td>\n",
       "      <td>2023-03-16 15:35:26.346</td>\n",
       "      <td>26.346</td>\n",
       "    </tr>\n",
       "    <tr>\n",
       "      <th>4</th>\n",
       "      <td>sync summary event # 128</td>\n",
       "      <td>async summary event 128</td>\n",
       "      <td>03/06/2023</td>\n",
       "      <td>2023-03-16 15:35:26.417</td>\n",
       "      <td>26.417</td>\n",
       "    </tr>\n",
       "  </tbody>\n",
       "</table>\n",
       "</div>"
      ],
      "text/plain": [
       "                    pin_num                    label        date  \\\n",
       "0                    BioLab      Acquisition Started  03/06/2023   \n",
       "1   sync summary event # 13         start_experiment  03/06/2023   \n",
       "2  sync summary event # 128  async summary event 128  03/06/2023   \n",
       "3    sync summary event # 2     describe_trial_start  03/06/2023   \n",
       "4  sync summary event # 128  async summary event 128  03/06/2023   \n",
       "\n",
       "                     time  sec_microsec  \n",
       "0 2023-03-16 15:35:06.294         6.294  \n",
       "1 2023-03-16 15:35:17.438        17.438  \n",
       "2 2023-03-16 15:35:17.469        17.469  \n",
       "3 2023-03-16 15:35:26.346        26.346  \n",
       "4 2023-03-16 15:35:26.417        26.417  "
      ]
     },
     "execution_count": 170,
     "metadata": {},
     "output_type": "execute_result"
    }
   ],
   "source": [
    "microsec = []\n",
    "for row in flags.time:\n",
    "    microsec.append(float(row.strftime('%S.%f')))\n",
    "flags['sec_microsec'] = microsec\n",
    "flags.head()"
   ]
  },
  {
   "attachments": {},
   "cell_type": "markdown",
   "metadata": {},
   "source": [
    "## Isolate Triggers"
   ]
  },
  {
   "attachments": {},
   "cell_type": "markdown",
   "metadata": {},
   "source": [
    "Label the photo trigger"
   ]
  },
  {
   "cell_type": "code",
   "execution_count": 171,
   "metadata": {},
   "outputs": [
    {
     "data": {
      "text/html": [
       "<div>\n",
       "<style scoped>\n",
       "    .dataframe tbody tr th:only-of-type {\n",
       "        vertical-align: middle;\n",
       "    }\n",
       "\n",
       "    .dataframe tbody tr th {\n",
       "        vertical-align: top;\n",
       "    }\n",
       "\n",
       "    .dataframe thead th {\n",
       "        text-align: right;\n",
       "    }\n",
       "</style>\n",
       "<table border=\"1\" class=\"dataframe\">\n",
       "  <thead>\n",
       "    <tr style=\"text-align: right;\">\n",
       "      <th></th>\n",
       "      <th>pin_num</th>\n",
       "      <th>label</th>\n",
       "      <th>date</th>\n",
       "      <th>time</th>\n",
       "      <th>sec_microsec</th>\n",
       "    </tr>\n",
       "  </thead>\n",
       "  <tbody>\n",
       "    <tr>\n",
       "      <th>0</th>\n",
       "      <td>BioLab</td>\n",
       "      <td>Acquisition Started</td>\n",
       "      <td>03/06/2023</td>\n",
       "      <td>2023-03-16 15:35:06.294</td>\n",
       "      <td>6.294</td>\n",
       "    </tr>\n",
       "    <tr>\n",
       "      <th>1</th>\n",
       "      <td>sync summary event # 13</td>\n",
       "      <td>start_experiment</td>\n",
       "      <td>03/06/2023</td>\n",
       "      <td>2023-03-16 15:35:17.438</td>\n",
       "      <td>17.438</td>\n",
       "    </tr>\n",
       "    <tr>\n",
       "      <th>2</th>\n",
       "      <td>sync summary event # 128</td>\n",
       "      <td>photo_trigger</td>\n",
       "      <td>03/06/2023</td>\n",
       "      <td>2023-03-16 15:35:17.469</td>\n",
       "      <td>17.469</td>\n",
       "    </tr>\n",
       "    <tr>\n",
       "      <th>3</th>\n",
       "      <td>sync summary event # 2</td>\n",
       "      <td>describe_trial_start</td>\n",
       "      <td>03/06/2023</td>\n",
       "      <td>2023-03-16 15:35:26.346</td>\n",
       "      <td>26.346</td>\n",
       "    </tr>\n",
       "    <tr>\n",
       "      <th>4</th>\n",
       "      <td>sync summary event # 128</td>\n",
       "      <td>photo_trigger</td>\n",
       "      <td>03/06/2023</td>\n",
       "      <td>2023-03-16 15:35:26.417</td>\n",
       "      <td>26.417</td>\n",
       "    </tr>\n",
       "  </tbody>\n",
       "</table>\n",
       "</div>"
      ],
      "text/plain": [
       "                    pin_num                 label        date  \\\n",
       "0                    BioLab   Acquisition Started  03/06/2023   \n",
       "1   sync summary event # 13      start_experiment  03/06/2023   \n",
       "2  sync summary event # 128         photo_trigger  03/06/2023   \n",
       "3    sync summary event # 2  describe_trial_start  03/06/2023   \n",
       "4  sync summary event # 128         photo_trigger  03/06/2023   \n",
       "\n",
       "                     time  sec_microsec  \n",
       "0 2023-03-16 15:35:06.294         6.294  \n",
       "1 2023-03-16 15:35:17.438        17.438  \n",
       "2 2023-03-16 15:35:17.469        17.469  \n",
       "3 2023-03-16 15:35:26.346        26.346  \n",
       "4 2023-03-16 15:35:26.417        26.417  "
      ]
     },
     "execution_count": 171,
     "metadata": {},
     "output_type": "execute_result"
    }
   ],
   "source": [
    "flags['label'] = flags['label'].replace('async summary event 128', 'photo_trigger')\n",
    "flags.head()"
   ]
  },
  {
   "attachments": {},
   "cell_type": "markdown",
   "metadata": {},
   "source": [
    "Remove irrelevant triggers"
   ]
  },
  {
   "cell_type": "code",
   "execution_count": 172,
   "metadata": {},
   "outputs": [],
   "source": [
    "def clean_the_triggers(df):\n",
    "    ''' \n",
    "    Keep only rows with triggers that are followed by a photo trigger.\n",
    "\n",
    "    Arguments:\n",
    "        df: dataframe with triggers\n",
    "\n",
    "    Returns: dataframe with triggers that have corresponding\n",
    "        photo triggers only.\n",
    "    '''\n",
    "\n",
    "    clean_triggers = pd.DataFrame({'pin_num': [], 'label': [], 'date': [], \\\n",
    "                                   'time': [], 'sec_microsec': []})\n",
    "    for loc in range(0, df.shape[0] - 1):\n",
    "        if df.iloc[loc + 1].label == 'photo_trigger':\n",
    "            clean_triggers = pd.concat([clean_triggers, df.iloc[[loc, loc+1],]])\n",
    "    return clean_triggers"
   ]
  },
  {
   "cell_type": "code",
   "execution_count": 173,
   "metadata": {},
   "outputs": [
    {
     "data": {
      "text/html": [
       "<div>\n",
       "<style scoped>\n",
       "    .dataframe tbody tr th:only-of-type {\n",
       "        vertical-align: middle;\n",
       "    }\n",
       "\n",
       "    .dataframe tbody tr th {\n",
       "        vertical-align: top;\n",
       "    }\n",
       "\n",
       "    .dataframe thead th {\n",
       "        text-align: right;\n",
       "    }\n",
       "</style>\n",
       "<table border=\"1\" class=\"dataframe\">\n",
       "  <thead>\n",
       "    <tr style=\"text-align: right;\">\n",
       "      <th></th>\n",
       "      <th>pin_num</th>\n",
       "      <th>label</th>\n",
       "      <th>date</th>\n",
       "      <th>time</th>\n",
       "      <th>sec_microsec</th>\n",
       "    </tr>\n",
       "  </thead>\n",
       "  <tbody>\n",
       "    <tr>\n",
       "      <th>1</th>\n",
       "      <td>sync summary event # 13</td>\n",
       "      <td>start_experiment</td>\n",
       "      <td>03/06/2023</td>\n",
       "      <td>2023-03-16 15:35:17.438</td>\n",
       "      <td>17.438</td>\n",
       "    </tr>\n",
       "    <tr>\n",
       "      <th>2</th>\n",
       "      <td>sync summary event # 128</td>\n",
       "      <td>photo_trigger</td>\n",
       "      <td>03/06/2023</td>\n",
       "      <td>2023-03-16 15:35:17.469</td>\n",
       "      <td>17.469</td>\n",
       "    </tr>\n",
       "    <tr>\n",
       "      <th>3</th>\n",
       "      <td>sync summary event # 2</td>\n",
       "      <td>describe_trial_start</td>\n",
       "      <td>03/06/2023</td>\n",
       "      <td>2023-03-16 15:35:26.346</td>\n",
       "      <td>26.346</td>\n",
       "    </tr>\n",
       "    <tr>\n",
       "      <th>4</th>\n",
       "      <td>sync summary event # 128</td>\n",
       "      <td>photo_trigger</td>\n",
       "      <td>03/06/2023</td>\n",
       "      <td>2023-03-16 15:35:26.417</td>\n",
       "      <td>26.417</td>\n",
       "    </tr>\n",
       "    <tr>\n",
       "      <th>5</th>\n",
       "      <td>sync summary event # 6</td>\n",
       "      <td>describe_trial_choice_start</td>\n",
       "      <td>03/06/2023</td>\n",
       "      <td>2023-03-16 15:35:36.385</td>\n",
       "      <td>36.385</td>\n",
       "    </tr>\n",
       "  </tbody>\n",
       "</table>\n",
       "</div>"
      ],
      "text/plain": [
       "                    pin_num                        label        date  \\\n",
       "1   sync summary event # 13             start_experiment  03/06/2023   \n",
       "2  sync summary event # 128                photo_trigger  03/06/2023   \n",
       "3    sync summary event # 2         describe_trial_start  03/06/2023   \n",
       "4  sync summary event # 128                photo_trigger  03/06/2023   \n",
       "5    sync summary event # 6  describe_trial_choice_start  03/06/2023   \n",
       "\n",
       "                     time  sec_microsec  \n",
       "1 2023-03-16 15:35:17.438        17.438  \n",
       "2 2023-03-16 15:35:17.469        17.469  \n",
       "3 2023-03-16 15:35:26.346        26.346  \n",
       "4 2023-03-16 15:35:26.417        26.417  \n",
       "5 2023-03-16 15:35:36.385        36.385  "
      ]
     },
     "execution_count": 173,
     "metadata": {},
     "output_type": "execute_result"
    }
   ],
   "source": [
    "clean_triggers = clean_the_triggers(flags)\n",
    "clean_triggers.head()"
   ]
  },
  {
   "cell_type": "code",
   "execution_count": 174,
   "metadata": {},
   "outputs": [
    {
     "data": {
      "text/plain": [
       "array(['start_experiment', 'photo_trigger', 'describe_trial_start',\n",
       "       'describe_trial_choice_start', 'imagine_trial_start',\n",
       "       'imagine_trial_choice_start', 'describe_trial_choice_end',\n",
       "       'describe_writeout_start', 'describe_writeout_choice_start',\n",
       "       'imagine_writeout_start', 'imagine_writeout_choice_start',\n",
       "       'imagine_writeout_choice_end', 'describe_writeout_choice_end'],\n",
       "      dtype=object)"
      ]
     },
     "execution_count": 174,
     "metadata": {},
     "output_type": "execute_result"
    }
   ],
   "source": [
    "clean_triggers['label'].unique()"
   ]
  },
  {
   "attachments": {},
   "cell_type": "markdown",
   "metadata": {},
   "source": [
    "# Timing Test"
   ]
  },
  {
   "attachments": {},
   "cell_type": "markdown",
   "metadata": {},
   "source": [
    "Helper functions"
   ]
  },
  {
   "cell_type": "code",
   "execution_count": 175,
   "metadata": {},
   "outputs": [],
   "source": [
    "def subset_triggers(df, label_of_interest):\n",
    "    '''\n",
    "    Pull out rows from original df with\n",
    "      triggers of interest and their corresponding photo triggers.\n",
    "    \n",
    "    Arguments:\n",
    "        df: dataframe with all the triggers\n",
    "        label_of_interest: trigger label to pull out.\n",
    "\n",
    "    Returns:\n",
    "        Dataframe with the data for the trigger of interest and \n",
    "        their corresponding photo triggers.\n",
    "    '''\n",
    "    subset_df = pd.DataFrame({'pin_num': [], 'label': [], 'date': [], \\\n",
    "                              'time': [], 'sec_microsec': []})\n",
    "    for loc in range(0, df.shape[0] - 1):\n",
    "        if df.iloc[loc].label == label_of_interest:\n",
    "            subset_df = pd.concat([subset_df, df.iloc[[loc, loc+1],]])\n",
    "\n",
    "    return subset_df"
   ]
  },
  {
   "cell_type": "code",
   "execution_count": 176,
   "metadata": {},
   "outputs": [],
   "source": [
    "def find_stats(df):\n",
    "    ''' \n",
    "    Find the standard deviation of the differences between the triggers and the \n",
    "    corresponding photo triggers.\n",
    "\n",
    "    Arguments:\n",
    "        df: dataframe with only one trigger type\n",
    "    \n",
    "    Returns: standard deviation (float) of the differences.\n",
    "    '''\n",
    "\n",
    "    # compute the differences\n",
    "    diffs = []\n",
    "    for loc in range(0, df.shape[0] - 1):\n",
    "        if df.iloc[loc].label != \"photo_trigger\" and \\\n",
    "            df.iloc[loc + 1].label == \"photo_trigger\":\n",
    "            diff = df.iloc[loc + 1].sec_microsec- df.iloc[loc].sec_microsec\n",
    "            diffs.append(diff)\n",
    "    \n",
    "    # compute the mean and sd\n",
    "    M = np.mean(diffs)\n",
    "    SD = np.std(diffs)\n",
    "\n",
    "    return (M, SD)"
   ]
  },
  {
   "attachments": {},
   "cell_type": "markdown",
   "metadata": {},
   "source": [
    "## Find Means and SDs for each trigger type"
   ]
  },
  {
   "cell_type": "code",
   "execution_count": 177,
   "metadata": {},
   "outputs": [],
   "source": [
    "labels = ['describe_trial_start',\n",
    "       'describe_trial_choice_start', 'imagine_trial_start',\n",
    "       'imagine_trial_choice_start',\n",
    "       'describe_writeout_start', 'describe_writeout_choice_start',\n",
    "       'imagine_writeout_start', 'imagine_writeout_choice_start']\n",
    "means = {}\n",
    "SDs = {}\n",
    "for label in labels:\n",
    "    temp_df = subset_triggers(clean_triggers, label)\n",
    "    M, SD = find_stats(temp_df)\n",
    "    means[label] = M\n",
    "    SDs[label] = SD"
   ]
  },
  {
   "cell_type": "code",
   "execution_count": 178,
   "metadata": {},
   "outputs": [
    {
     "data": {
      "text/plain": [
       "{'describe_trial_start': 0.08198214285714253,\n",
       " 'describe_trial_choice_start': 0.03838181818181807,\n",
       " 'imagine_trial_start': 0.04566666666666659,\n",
       " 'imagine_trial_choice_start': 0.03745614035087713,\n",
       " 'describe_writeout_start': 0.06533333333333251,\n",
       " 'describe_writeout_choice_start': 0.03933333333333322,\n",
       " 'imagine_writeout_start': 0.03554545454545422,\n",
       " 'imagine_writeout_choice_start': 0.03737500000000038}"
      ]
     },
     "execution_count": 178,
     "metadata": {},
     "output_type": "execute_result"
    }
   ],
   "source": [
    "means"
   ]
  },
  {
   "cell_type": "code",
   "execution_count": 179,
   "metadata": {},
   "outputs": [
    {
     "data": {
      "text/plain": [
       "{'describe_trial_start': 0.02141052067111329,\n",
       " 'describe_trial_choice_start': 0.007966956551545239,\n",
       " 'imagine_trial_start': 0.009205896915113546,\n",
       " 'imagine_trial_choice_start': 0.00879806632550677,\n",
       " 'describe_writeout_start': 0.017518244457960984,\n",
       " 'describe_writeout_choice_start': 0.010241527663825562,\n",
       " 'imagine_writeout_start': 0.00857441899821914,\n",
       " 'imagine_writeout_choice_start': 0.009860749210886038}"
      ]
     },
     "execution_count": 179,
     "metadata": {},
     "output_type": "execute_result"
    }
   ],
   "source": [
    "SDs"
   ]
  }
 ],
 "metadata": {
  "kernelspec": {
   "display_name": "parport_triggers_env",
   "language": "python",
   "name": "python3"
  },
  "language_info": {
   "codemirror_mode": {
    "name": "ipython",
    "version": 3
   },
   "file_extension": ".py",
   "mimetype": "text/x-python",
   "name": "python",
   "nbconvert_exporter": "python",
   "pygments_lexer": "ipython3",
   "version": "3.10.9"
  },
  "orig_nbformat": 4,
  "vscode": {
   "interpreter": {
    "hash": "d580d5d31e27f45fb8a7cd801a8a0a7eaab6ff7b5e0df93ce6898319cee02ed4"
   }
  }
 },
 "nbformat": 4,
 "nbformat_minor": 2
}
